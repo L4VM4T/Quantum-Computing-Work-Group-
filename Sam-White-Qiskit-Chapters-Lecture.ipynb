{
 "cells": [
  {
   "cell_type": "markdown",
   "id": "82163d94",
   "metadata": {},
   "source": [
    "# Focus and Intentions\n",
    "*To start I want to go over my intentions with this lecture:*\n",
    " - I want to keep this lecture fairly brief as I intend to go over the the basics and the connections between them rather than spell out the chapter you already read. If you did not read it, no worries. I will still go over the topics in the book, just not as thorough. \n",
    " - If you have any questions, feel free to interject. I want this to become more of a conversation, rather than a lecture so feel free to chime in.\n",
    " - If I say something wrong, have the wrong idea about anything, please feel free to correct me.\n",
    " - I'm going to take it section by section to make sure I'm touching on every area we read about. \n",
    " - After we go over everything, let's discuss any feedback, questions, concerns, interesting topics, whatever you'd like. "
   ]
  },
  {
   "cell_type": "markdown",
   "id": "cb690935",
   "metadata": {},
   "source": [
    "# Why Quantum Computing?\n",
    "## Computational Complexity\n",
    " - Computational complexity: how algorithms increase in resource use as a problem size increases\n",
    "     - This is displayed as time complexity and space complexity\n",
    "     - As the size of an input increases:\n",
    "         - how long does it take to finish the algorithm?\n",
    "         - how much space does it take to finish the algorithm?\n",
    "     - Imagine you have a black box where you give it a set of objects and it spits out a different color (really any output will do). It takes a certain amount of time to switch the colors, but the more objects you put in the box, the longer it will take. You have a box that when you put in a number of objects, n, it takes $2^n$ seconds to complete. So 5 objects will take $2^{5} = 32$ seconds.\n",
    "     - Let's say you buy an even better box that is more efficient. It can change the color of $n$ objects in $n$ time. This means that it would only take 5 seconds to change those colors. Though the difference is not giant, the performance improvement becomes infinitely better as you increase the number of objects to infinity. All of this to say that an improvement in efficiency is infinitly important at scale. So these represent the algorithms growth rate. The algorithm is the black box, and the objects are the inputs into the algorithm. "
   ]
  },
  {
   "cell_type": "markdown",
   "id": "26a5c6cc",
   "metadata": {},
   "source": [
    "![image](https://miro.medium.com/v2/resize:fit:1053/1*kO69dq_xml2q3o2NH9OZ3g.png)\n"
   ]
  },
  {
   "cell_type": "markdown",
   "id": "b69a2b04",
   "metadata": {},
   "source": [
    "## What Quantum Offers and It's Limits\n",
    "Quantum computers can offer these efficiency improvements from our classical computer algorithms.\n",
    "\n",
    "The Qiskit Textbook discusses Shor's Factoring Algorithm, but I'd prefer to talk about Grover's Search Algorithm since it's something we will discuss later in the chapter. \n",
    "\n",
    "A classical computer can search through an unordered set of data in $O(n)$ time with linear search while Grover's search algorithm can search in $O(\\sqrt n)$ time. \n",
    "\n",
    "Though we are not at that point yet with our quantum computers because we lack the number and reliability of qubits. We either lack the number of qubits to solve the problems or we don't have stable enough qubits to give us reliable results because of noise (or both!).\n",
    "\n",
    "This may be a little too literal, but I think it's a comedic example of how outside variables affect our computing performance.  \n",
    "https://www.youtube.com/watch?v=tDacjrSCeq4&ab_channel=BryanCantrill"
   ]
  },
  {
   "cell_type": "markdown",
   "id": "0edc9a7e",
   "metadata": {},
   "source": [
    "# The Atoms of Computation\n",
    "## Binary Values\n",
    "Before going into qubit representation, it might be best to quickly gloss over classical bit representation. Our standard number system uses a base 10 numbering system where we move to the next digit when we hit 10. \n",
    "$$213 = 200 + 10 + 3$$  \n",
    "$$(2 * 10^2) + (1 * 10^1) + (3 * 10^0)$$\n",
    "Since computers would struggle to hold values like this, it's much easier to store a bunch of base 2 numbers in our classical computers with really tiny capacitors that hold the value, 1 or 0.\n",
    "## Quantum Circuits\n",
    "Quantum circuits look like sheet music. I was always confused as to why since all of the classical gates opened and closed their connections, but it's because quantum circuits cannot \"fanin\" or fanout.\" \n",
    "![image](https://siliconvlsi.com/wp-content/uploads/2023/08/Fan-In-and-Fan-Out.png)\n",
    "A quantum state cannot be fanned out because of the no cloning theorem which prevents the cloning of a quantum state. Fanning in a quantum circuit would cause the circuit to break it's entanglement. Without fanning in or out, we get a circuit that looks like sheet music."
   ]
  },
  {
   "cell_type": "code",
   "execution_count": 20,
   "id": "d141937e",
   "metadata": {},
   "outputs": [
    {
     "data": {
      "image/png": "[encoded data removed]",
      "text/plain": [
       "<Figure size 705.552x367.889 with 1 Axes>"
      ]
     },
     "metadata": {},
     "output_type": "display_data"
    }
   ],
   "source": [
    "# import standard libraries\n",
    "import qiskit\n",
    "from qiskit.visualization import plot_bloch_multivector \n",
    "import numpy as np\n",
    "import pylatexenc \n",
    "from qiskit import QuantumCircuit, Aer, transpile, assemble, execute\n",
    "from qiskit.visualization import plot_histogram\n",
    "from qiskit.providers.aer import AerSimulator\n",
    "\n",
    "circuit = QuantumCircuit(3, 3)\n",
    "circuit.x(2)\n",
    "circuit.h(range(3))\n",
    "circuit.ccx(0, 1, 2)\n",
    "circuit.h(range(3))\n",
    "circuit.measure(range(3), range(3))\n",
    "display(circuit.draw('mpl'))"
   ]
  },
  {
   "cell_type": "markdown",
   "id": "c601e090",
   "metadata": {},
   "source": [
    "# What is Quantum?\n",
    "The Qiskit textbook first talks about exploring qubits and introducing the Hadamard gate before discussing probabilities and why they matter in quantum computing. I'm going to try and take this from a slightly different angle and put a little more emphasis on the math. \n",
    "\n",
    "## Probabilities\n",
    "We all at least know the basics of probability. Percent chances of things happening, fraction representation, probabilities adding up to 1 or 100%, etc. While classical probabilities give a liklihood of possible outcomes based on incomplete information, they fail to describe quantum phenomena. \n",
    "\n",
    "In quantum mechanics, probability amplitudes are used instead. These appear to be similar to standard probabilities, but seen with square roots, except they also possess a \"phase\", which can be understood as a hidden directional angle outside of the probabilities. Unlike traditional probabilities that are scalar real numbers, amplitudes are complex numbers. This allows amplitudes to exhibit \"interference\", where they can amplify or nullify each other, analogous to how positive and negative numbers might add up to either increase, decrease, or cancel out the total value.\n",
    "\n",
    "## Hadamard Gate\n",
    "Since we have already been through the standard representation of the Hadamard Gate within the book, let's move to the quantum statevector representation of the Hadamard Gate.  \n",
    "*We will start with the state 0:*  \n",
    "$\\psi = |0\\rangle$  \n",
    "*Then we pass this state through the Hadamard gate and get this:  \n",
    "$\\psi = \\frac{1}{\\sqrt2}|0\\rangle + \\frac{1}{\\sqrt2}|1\\rangle$  \n",
    "*Lets factor this out to make it look cleaner:*  \n",
    "$\\psi = \\frac{1}{\\sqrt2}(|0\\rangle + |1\\rangle)$  \n",
    "*Lets pass it through once again and see what we get:*    \n",
    "$\\psi = \\frac{1}{\\sqrt2}((\\frac{1}{\\sqrt2}(|0\\rangle + |1\\rangle)) + (\\frac{1}{\\sqrt2}(|0\\rangle - |1\\rangle)))$  \n",
    "*It looks like we got a negative phase from the |1> state going through the Hadamard gate on the second pass. This allows us to do some cancelling:*  \n",
    "$\\psi = \\frac{1}{\\sqrt2}(\\frac{2}{\\sqrt2}|0\\rangle)$$   \n",
    "$\\psi = \\frac{2}{2}(|0\\rangle)$$   \n",
    "$\\psi = |0\\rangle$  \n",
    "*This completely explains the pattern we see when dealing with the Hadamard gate:*  \n",
    "$H(|0\\rangle) = \\frac{1}{\\sqrt2}(|0\\rangle + |1\\rangle)$  \n",
    "$H(|1\\rangle) = \\frac{1}{\\sqrt2}(|0\\rangle - |1\\rangle)$  \n"
   ]
  },
  {
   "cell_type": "markdown",
   "id": "c2106efc",
   "metadata": {},
   "source": [
    "# Describing Quantum Computers\n",
    "The Qiskit textbook works to explain amplitudes without the use of complex numbers for the sake of simplicity. This forces us to only look at amplitudes facing forward and backward. Keep in mind that in the future, we will be using complex numbers to represent these amplitudes and instead represent a full range of motion. \n",
    "\n",
    "They introduce state vectors which is the representation of the quantum circuits state. There will be $2^n$ entries in this vector where n is the number of qubits.\n",
    "\n",
    "$$\n",
    "|\\psi\\rangle = \\alpha |00\\rangle + \\beta |01\\rangle + \\gamma |10\\rangle + \\delta |11\\rangle\n",
    "$$\n",
    "\n",
    "*So if this quantum circuit had both qubits going through a Hadamard gate, the state vector would look like this:*\n",
    "\n",
    "$$\n",
    "|\\psi\\rangle = \\frac{1}{2} (|00\\rangle + |01\\rangle + |10\\rangle + |11\\rangle)\n",
    "$$\n",
    "\n",
    "## Linear Algebra\n",
    "### Scalars\n",
    "Consider a vector:\n",
    "$$\n",
    "\\mathbf{v} = \n",
    "\\begin{bmatrix}\n",
    "    v_1 \\\\\n",
    "    v_2 \\\\\n",
    "    v_3 \\\\\n",
    "    v_4 \\\\\n",
    "\\end{bmatrix}\n",
    "$$\n",
    "\n",
    "If we multiply this vector by a scalar \\( k \\), the result is:\n",
    "$$\n",
    "k \\cdot \\mathbf{v} = \n",
    "\\begin{bmatrix}\n",
    "    k \\cdot v_1 \\\\\n",
    "    k \\cdot v_2 \\\\\n",
    "    k \\cdot v_3 \\\\\n",
    "    k \\cdot v_4 \\\\\n",
    "\\end{bmatrix}\n",
    "$$\n",
    "So we can rethink the previous statevector as:\n",
    "$$\n",
    "\\frac{1}{\\sqrt2} \n",
    "\\begin{bmatrix}\n",
    "    v_1 \\\\\n",
    "    v_2 \\\\\n",
    "    v_3 \\\\\n",
    "    v_4 \\\\\n",
    "\\end{bmatrix}\n",
    "$$  \n",
    "\n",
    "$$\n",
    "=\n",
    "\\begin{bmatrix}\n",
    "    \\frac{1}{\\sqrt2} v_1 \\\\\n",
    "    \\frac{1}{\\sqrt2} v_2 \\\\\n",
    "    \\frac{1}{\\sqrt2} v_3 \\\\\n",
    "    \\frac{1}{\\sqrt2} v_4 \\\\\n",
    "\\end{bmatrix}\n",
    "$$\n",
    "### Vector Addition\n",
    "Consider two vectors:\n",
    "$$\n",
    "\\mathbf{a} = \n",
    "\\begin{bmatrix}\n",
    "    a_1 \\\\\n",
    "    a_2 \\\\\n",
    "    a_3 \\\\\n",
    "    a_4 \\\\\n",
    "\\end{bmatrix}\n",
    "$$\n",
    "\n",
    "and\n",
    "\n",
    "$$\n",
    "\\mathbf{b} = \n",
    "\\begin{bmatrix}\n",
    "    b_1 \\\\\n",
    "    b_2 \\\\\n",
    "    b_3 \\\\\n",
    "    b_4 \\\\\n",
    "\\end{bmatrix}\n",
    "$$\n",
    "\n",
    "The sum of these vectors, \\( \\mathbf{a} + \\mathbf{b} \\), is:\n",
    "$$\n",
    "\\mathbf{a} + \\mathbf{b} = \n",
    "\\begin{bmatrix}\n",
    "    a_1 + b_1 \\\\\n",
    "    a_2 + b_2 \\\\\n",
    "    a_3 + b_3 \\\\\n",
    "    a_4 + b_4 \\\\\n",
    "\\end{bmatrix}\n",
    "$$\n",
    "## Vectors\n",
    "If we were to treat our vectors as our basis for our vector space, also known as our computational basis, we would get a graph that looks like this.\n",
    "![image](https://learn.qiskit.org/content/v2/intro/images/quantum-states/basis.svg)\n",
    "The $|+\\rangle$ and $|-\\rangle$ that you see are the states produced by the Hadamard gate. These also can be treated as our computational basis if we'd like since they are orthogonal to one another. \n",
    "$$|+\\rangle = \\frac{1}{\\sqrt2}(|0\\rangle + |1\\rangle)$$\n",
    "$$|-\\rangle = \\frac{1}{\\sqrt2}(|0\\rangle - |1\\rangle)$$\n",
    "## Operations as Matrices\n",
    "Operations like the Hadamard Gate can be represented as a matrix that will be multiplied (outer-product) by the state vector. This returns a new statevector that has passed through the gate:\n",
    "$$\n",
    "H = \\frac{1}{\\sqrt{2}} \n",
    "\\begin{bmatrix}\n",
    "    1 & 1 \\\\\n",
    "    1 & -1 \\\\\n",
    "\\end{bmatrix}\n",
    "$$\n",
    "Given the statevector:\n",
    "\n",
    "$$\n",
    "|\\psi\\rangle = \n",
    "\\begin{bmatrix}\n",
    "    \\alpha \\\\\n",
    "    \\beta \\\\\n",
    "\\end{bmatrix}\n",
    "$$\n",
    "\n",
    "Multiplying it with the Hadamard matrix, we get:\n",
    "\n",
    "$$\n",
    "H |\\psi\\rangle = \\frac{1}{\\sqrt{2}} \n",
    "\\begin{bmatrix}\n",
    "    1 & 1 \\\\\n",
    "    1 & -1 \\\\\n",
    "\\end{bmatrix}\n",
    "\\begin{bmatrix}\n",
    "    \\alpha \\\\\n",
    "    \\beta \\\\\n",
    "\\end{bmatrix}\n",
    "=\n",
    "\\begin{bmatrix}\n",
    "    \\frac{\\alpha + \\beta}{\\sqrt{2}} \\\\\n",
    "    \\frac{\\alpha - \\beta}{\\sqrt{2}} \\\\\n",
    "\\end{bmatrix}\n",
    "$$\n",
    "\n",
    "Given the statevector with \\( $\\alpha$ = 1 \\) and \\( $\\beta$ = 0 \\):\n",
    "\n",
    "$$\n",
    "|\\psi\\rangle = \n",
    "\\begin{bmatrix}\n",
    "    1 \\\\\n",
    "    0 \\\\\n",
    "\\end{bmatrix}\n",
    "$$\n",
    "\n",
    "Multiplying it with the Hadamard matrix, we get:\n",
    "\n",
    "$$\n",
    "H |\\psi\\rangle = \\frac{1}{\\sqrt{2}} \n",
    "\\begin{bmatrix}\n",
    "    1 & 1 \\\\\n",
    "    1 & -1 \\\\\n",
    "\\end{bmatrix}\n",
    "\\begin{bmatrix}\n",
    "    1 \\\\\n",
    "    0 \\\\\n",
    "\\end{bmatrix}\n",
    "=\n",
    "\\begin{bmatrix}\n",
    "    \\frac{1}{\\sqrt{2}} \\\\\n",
    "    \\frac{1}{\\sqrt{2}} \\\\\n",
    "\\end{bmatrix}\n",
    "$$\n",
    "\n",
    "Given the statevector with \\( $\\alpha$ = 0 \\) and \\( $\\beta$ = 1 \\):\n",
    "\n",
    "$$\n",
    "|\\psi\\rangle = \n",
    "\\begin{bmatrix}\n",
    "    0 \\\\\n",
    "    1 \\\\\n",
    "\\end{bmatrix}\n",
    "$$\n",
    "\n",
    "Multiplying it with the Hadamard matrix, we get:\n",
    "\n",
    "$$\n",
    "H |\\psi\\rangle = \\frac{1}{\\sqrt{2}} \n",
    "\\begin{bmatrix}\n",
    "    1 & 1 \\\\\n",
    "    1 & -1 \\\\\n",
    "\\end{bmatrix}\n",
    "\\begin{bmatrix}\n",
    "    0 \\\\\n",
    "    1 \\\\\n",
    "\\end{bmatrix}\n",
    "=\n",
    "\\begin{bmatrix}\n",
    "    \\frac{1}{\\sqrt{2}} \\\\\n",
    "    -\\frac{1}{\\sqrt{2}} \\\\\n",
    "\\end{bmatrix}\n",
    "$$\n",
    "## Rules of Quantum Operations\n",
    "Keep in mind that not all operations are valid, similar to state vectors. If an operation is multiplied by a valid state vector, it must output a valid state vector as well. "
   ]
  },
  {
   "cell_type": "markdown",
   "id": "9d09715f",
   "metadata": {},
   "source": [
    "# Entangled States\n",
    "Entangled states can be a long and complex topic, but my intention is not to go too deeply into it.\n",
    "\n",
    "Entangled states, as covered in the Qiskit textbook, are states that can't be achieved by another combination of basic states. For instance, there is not combination of basic states that can result in the state vector:\n",
    "$$\n",
    "\\frac{1}{\\sqrt2} \n",
    "\\begin{bmatrix}\n",
    "    1 \\\\\n",
    "    0 \\\\\n",
    "    0 \\\\\n",
    "    1 \\\\\n",
    "\\end{bmatrix}\n",
    "$$\n",
    "This is because the values must be dependent on one another to return the same value as eachother every time, they are correlated. \n",
    "\n",
    "We can achieve entangled states by controlled quantum gates like the CNOT gate. This is a gate with a control bit and a target bit. If the control bit is 1, it will flip the bit of the target bit (NOT or X gate). That is why it's called the controlled not gate. This is the gate that gives us the entanglement that we saw above. "
   ]
  },
  {
   "cell_type": "code",
   "execution_count": 21,
   "id": "62fc55e5",
   "metadata": {},
   "outputs": [
    {
     "data": {
      "image/png": "[encoded data removed]",
      "text/plain": [
       "<Figure size 454.517x284.278 with 1 Axes>"
      ]
     },
     "metadata": {},
     "output_type": "display_data"
    }
   ],
   "source": [
    "circuit.data = []\n",
    "circuit = QuantumCircuit(2, 2)\n",
    "circuit.h(0)\n",
    "circuit.cx(0,1)\n",
    "circuit.measure(range(2), range(2))\n",
    "display(circuit.draw('mpl'))"
   ]
  },
  {
   "cell_type": "code",
   "execution_count": 22,
   "id": "c184bbac",
   "metadata": {
    "scrolled": false
   },
   "outputs": [
    {
     "name": "stdout",
     "output_type": "stream",
     "text": [
      "{'11': 505, '00': 519}\n"
     ]
    },
    {
     "data": {
      "image/png": "[encoded data removed]",
      "text/plain": [
       "<Figure size 700x500 with 1 Axes>"
      ]
     },
     "execution_count": 22,
     "metadata": {},
     "output_type": "execute_result"
    }
   ],
   "source": [
    "# simulate outputs\n",
    "sim = AerSimulator()\n",
    "compiled = transpile(circuit, sim)\n",
    "job = assemble(compiled)\n",
    "\n",
    "result = sim.run(compiled).result()\n",
    "counts = result.get_counts()\n",
    "print(counts)\n",
    "plot_histogram(counts)"
   ]
  },
  {
   "cell_type": "markdown",
   "id": "93b62b60",
   "metadata": {},
   "source": [
    "The rest of this section I will skip since it goes into superdense coding and The Hardy paradox. If you're interested, I'd recommend searching them, but they would add a bit extra to this lecture. "
   ]
  },
  {
   "cell_type": "markdown",
   "id": "458c70d0",
   "metadata": {},
   "source": [
    "# Grover's Search Algorithm\n",
    "I previously created a Grover Search Algorithm Jupyter Notebook, so instead of repeating what they have already said in the textbook, lets walk through my thought process and discoveries.\n",
    "https://github.com/samabwhite/Grover-Search-Implementation"
   ]
  }
 ],
 "metadata": {
  "kernelspec": {
   "display_name": "Python 3 (ipykernel)",
   "language": "python",
   "name": "python3"
  },
  "language_info": {
   "codemirror_mode": {
    "name": "ipython",
    "version": 3
   },
   "file_extension": ".py",
   "mimetype": "text/x-python",
   "name": "python",
   "nbconvert_exporter": "python",
   "pygments_lexer": "ipython3",
   "version": "3.11.4"
  }
 },
 "nbformat": 4,
 "nbformat_minor": 5
}
